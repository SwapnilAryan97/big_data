{
  "cells": [
    {
      "cell_type": "code",
      "execution_count": null,
      "metadata": {
        "id": "4_TRs-xJj4fq"
      },
      "outputs": [],
      "source": [
        "import findspark\n",
        "findspark.init('/Users/swapnilsinha/spark/spark-3.0.1-bin-hadoop3.2')\n",
        "\n",
        "import re\n",
        "import numpy as np\n",
        "import pandas as pd\n",
        "from vaderSentiment.vaderSentiment import SentimentIntensityAnalyzer\n",
        "\n",
        "import nltk\n",
        "import folium\n",
        "from os import path, getcwd\n",
        "from PIL import Image\n",
        "from wordcloud import WordCloud, STOPWORDS\n",
        "import matplotlib.pyplot as plt\n",
        "import seaborn as sns\n",
        "%matplotlib inline \n",
        "\n",
        "from pyspark.sql import SparkSession\n",
        "from pyspark.sql import functions as F\n",
        "from pyspark.sql.functions import format_number as fmt\n",
        "from pyspark.sql.functions import udf\n",
        "from pyspark.sql.types import *\n",
        "\n",
        "from pyspark.ml.feature import Tokenizer,StopWordsRemover,Word2Vec\n",
        "from pyspark.ml import PipelineModel\n",
        "from pyspark.ml.evaluation import BinaryClassificationEvaluator"
      ]
    },
    {
      "cell_type": "markdown",
      "metadata": {
        "id": "NVnKFnPmj4fz"
      },
      "source": [
        "**Loading Twitter data stored in MongoDB and collected via Twitter Data API to Spark Sql DataFrame**"
      ]
    },
    {
      "cell_type": "code",
      "execution_count": null,
      "metadata": {
        "id": "3iUsuSnrj4f5"
      },
      "outputs": [],
      "source": [
        "spark = SparkSession \\\n",
        "    .builder \\\n",
        "    .appName('myApp') \\\n",
        "    .config('spark.mongodb.input.uri', 'mongodb://127.0.0.1/twitterdb.twitter_search') \\\n",
        "    .config('spark.mongodb.input.twitter', 'twitter_search') \\\n",
        "    .config('spark.mongodb.output.uri', 'mongodb://127.0.0.1/twitterdb.twitter_search') \\\n",
        "    .config('spark.jars.packages', 'org.mongodb.spark:mongo-spark-connector_2.11:2.4.1')\\\n",
        "    .getOrCreate()\n",
        "\n",
        "df = spark.read.format('mongo').option('uri', 'mongodb://127.0.0.1/twitterdb.twitter_search').load()"
      ]
    },
    {
      "cell_type": "markdown",
      "metadata": {
        "id": "yFT_rvP2j4f6"
      },
      "source": [
        "**Required Funtions to be used in Spark udf for data processing**"
      ]
    },
    {
      "cell_type": "code",
      "execution_count": null,
      "metadata": {
        "id": "0OI9nkEkj4f8"
      },
      "outputs": [],
      "source": [
        "def removePattern(input_text, pattern):\n",
        "    r = re.findall(pattern, input_text)\n",
        "    for i in r:\n",
        "        input_text = re.sub(i, '', input_text)        \n",
        "    return input_text\n",
        "\n",
        "def cleanTweet(txt):\n",
        "    '''\n",
        "    Remove twitter return handles (RT @xxx:)\n",
        "    '''\n",
        "    txt = removePattern(txt, 'RT @[\\w]*:')\n",
        "    '''\n",
        "    Remove twitter handles (@xxx)\n",
        "    '''\n",
        "    txt = removePattern(txt, '@[\\w]*')\n",
        "    '''\n",
        "    Remove URL links (httpxxx)\n",
        "    '''\n",
        "    txt = removePattern(txt, 'https?://[A-Za-z0-9./]*')\n",
        "    '''\n",
        "    Remove special characters, numbers, punctuations\n",
        "    '''\n",
        "    txt = re.sub('[^A-Za-z]+', ' ', txt)\n",
        "    return txt\n",
        "\n",
        "def get_Clean_Tweet_Text(filteredTweetText):\n",
        "    return ' '.join(filteredTweetText)\n",
        "\n",
        "def get_Sentiment_Score(tweetText):\n",
        "    analyzer = SentimentIntensityAnalyzer()\n",
        "    vs = analyzer.polarity_scores(tweetText)\n",
        "    return float(vs['compound'])\n",
        "\n",
        "def get_Sentiment(score):\n",
        "    return 1 if score > 0 else 0\n",
        "\n",
        "\n",
        "def getTweetArray(tweet):\n",
        "    return tweet.split(' ')"
      ]
    },
    {
      "cell_type": "markdown",
      "metadata": {
        "id": "otGxi_3rj4f-"
      },
      "source": [
        "#### Sentiment analysis"
      ]
    },
    {
      "cell_type": "markdown",
      "metadata": {
        "id": "MjmfNaJFj4f_"
      },
      "source": [
        "**Cleanup and Preparing Data For Performing Sentiment Analysis**"
      ]
    },
    {
      "cell_type": "code",
      "execution_count": null,
      "metadata": {
        "id": "Z4Wq8bOLj4gA",
        "outputId": "0fa699e9-fc53-45bf-ae37-c47c35346e41"
      },
      "outputs": [
        {
          "name": "stdout",
          "output_type": "stream",
          "text": [
            "+--------------------+--------------------+\n",
            "|                text|      cleanTweetText|\n",
            "+--------------------+--------------------+\n",
            "|@ReformedBroker B...|        Buy bitcoin |\n",
            "|RT @DigiFinex: Fa...| Facebook has pus...|\n",
            "|RT @tradingroomap...| Buying Bitcoin C...|\n",
            "|Most Profound Que...|Most Profound Que...|\n",
            "|Bitcoin BTC Curre...|Bitcoin BTC Curre...|\n",
            "+--------------------+--------------------+\n",
            "only showing top 5 rows\n",
            "\n"
          ]
        }
      ],
      "source": [
        "udf_Clean_Tweet = udf(cleanTweet, StringType())\n",
        "dfCleanTweet=df.withColumn('cleanTweetText', udf_Clean_Tweet('text'))\n",
        "dfCleanTweet.select('text','cleanTweetText').show(5)"
      ]
    },
    {
      "cell_type": "code",
      "execution_count": null,
      "metadata": {
        "id": "msZc3C2hj4gD",
        "outputId": "d0a9f050-a728-4001-bb11-890b1512f98a"
      },
      "outputs": [
        {
          "name": "stdout",
          "output_type": "stream",
          "text": [
            "+--------------------+--------------------+--------------------+\n",
            "|                text|      cleanTweetText|               words|\n",
            "+--------------------+--------------------+--------------------+\n",
            "|@ReformedBroker B...|        Buy bitcoin |    [, buy, bitcoin]|\n",
            "|RT @DigiFinex: Fa...| Facebook has pus...|[, facebook, has,...|\n",
            "|RT @tradingroomap...| Buying Bitcoin C...|[, buying, bitcoi...|\n",
            "|Most Profound Que...|Most Profound Que...|[most, profound, ...|\n",
            "|Bitcoin BTC Curre...|Bitcoin BTC Curre...|[bitcoin, btc, cu...|\n",
            "+--------------------+--------------------+--------------------+\n",
            "only showing top 5 rows\n",
            "\n"
          ]
        }
      ],
      "source": [
        "tokenizer = Tokenizer(inputCol='cleanTweetText', outputCol='words')\n",
        "dfCleanTweetTokenized = tokenizer.transform(dfCleanTweet)\n",
        "dfCleanTweetTokenized.select('text','cleanTweetText','words').show(5)"
      ]
    },
    {
      "cell_type": "code",
      "execution_count": null,
      "metadata": {
        "id": "hkkRkvFXj4gF",
        "outputId": "bfa129f3-e335-4aac-8ea5-c5e4a32eae50"
      },
      "outputs": [
        {
          "name": "stdout",
          "output_type": "stream",
          "text": [
            "+--------------------+--------------------+--------------------+--------------------+\n",
            "|                text|      cleanTweetText|               words|   filteredTweetText|\n",
            "+--------------------+--------------------+--------------------+--------------------+\n",
            "|@ReformedBroker B...|        Buy bitcoin |    [, buy, bitcoin]|    [, buy, bitcoin]|\n",
            "|RT @DigiFinex: Fa...| Facebook has pus...|[, facebook, has,...|[, facebook, push...|\n",
            "|RT @tradingroomap...| Buying Bitcoin C...|[, buying, bitcoi...|[, buying, bitcoi...|\n",
            "|Most Profound Que...|Most Profound Que...|[most, profound, ...|[profound, questi...|\n",
            "|Bitcoin BTC Curre...|Bitcoin BTC Curre...|[bitcoin, btc, cu...|[bitcoin, btc, cu...|\n",
            "+--------------------+--------------------+--------------------+--------------------+\n",
            "only showing top 5 rows\n",
            "\n"
          ]
        }
      ],
      "source": [
        "remover = StopWordsRemover(inputCol='words', outputCol='filteredTweetText')\n",
        "dfStopwordRemoved=remover.transform(dfCleanTweetTokenized)\n",
        "dfStopwordRemoved.select('text','cleanTweetText','words','filteredTweetText').show(5)"
      ]
    },
    {
      "cell_type": "code",
      "execution_count": null,
      "metadata": {
        "id": "5NEgv69Dj4gH",
        "outputId": "76d85bd6-c5c9-4dc8-abaa-a5010540b58b"
      },
      "outputs": [
        {
          "name": "stdout",
          "output_type": "stream",
          "text": [
            "+------------------------+\n",
            "|filteredCleanedTweetText|\n",
            "+------------------------+\n",
            "|             buy bitcoin|\n",
            "|     facebook pushed ...|\n",
            "|     buying bitcoin c...|\n",
            "|    profound question...|\n",
            "|    bitcoin btc curre...|\n",
            "+------------------------+\n",
            "only showing top 5 rows\n",
            "\n"
          ]
        }
      ],
      "source": [
        "udfCleanTweetText = udf(getCleanTweetText, StringType())\n",
        "dfFilteredCleanedTweet = dfStopwordRemoved.withColumn('filteredCleanedTweetText', udfCleanTweetText('filteredTweetText'))\n",
        "dfFilteredCleanedTweet.select('filteredCleanedTweetText').show(5)"
      ]
    },
    {
      "cell_type": "code",
      "execution_count": null,
      "metadata": {
        "scrolled": false,
        "id": "zlqxgH2wj4gJ",
        "outputId": "3e4a1ca5-7311-4e87-f84c-dfc1a45422db"
      },
      "outputs": [
        {
          "name": "stdout",
          "output_type": "stream",
          "text": [
            "+------------------------+--------------+\n",
            "|filteredCleanedTweetText|sentimentScore|\n",
            "+------------------------+--------------+\n",
            "|             buy bitcoin|           0.0|\n",
            "|     facebook pushed ...|           0.0|\n",
            "|     buying bitcoin c...|       -0.7003|\n",
            "|    profound question...|           0.0|\n",
            "|    bitcoin btc curre...|           0.0|\n",
            "+------------------------+--------------+\n",
            "only showing top 5 rows\n",
            "\n"
          ]
        }
      ],
      "source": [
        "Sentiment_Score = udf(getSentimentScore, FloatType())\n",
        "dfSentiment_Score = dfFilteredCleanedTweet.withColumn('sentimentScore', Sentiment_Score('filteredCleanedTweetText'))\n",
        "dfSentiment_Score.select('filteredCleanedTweetText','sentimentScore').show(5)"
      ]
    },
    {
      "cell_type": "code",
      "execution_count": null,
      "metadata": {
        "id": "fwQnFKHLj4gQ",
        "outputId": "02d2c907-b3bf-4b02-e998-3974c8617b57"
      },
      "outputs": [
        {
          "name": "stdout",
          "output_type": "stream",
          "text": [
            "+------------------------+--------------+---------+\n",
            "|filteredCleanedTweetText|sentimentScore|sentiment|\n",
            "+------------------------+--------------+---------+\n",
            "|             buy bitcoin|           0.0|        0|\n",
            "|     facebook pushed ...|           0.0|        0|\n",
            "|     buying bitcoin c...|       -0.7003|        0|\n",
            "|    profound question...|           0.0|        0|\n",
            "|    bitcoin btc curre...|           0.0|        0|\n",
            "+------------------------+--------------+---------+\n",
            "only showing top 5 rows\n",
            "\n"
          ]
        }
      ],
      "source": [
        "udfSentiment = udf(getSentiment, IntegerType())\n",
        "dfSentiment = dfSentimentScore.withColumn('sentiment', udfSentiment('sentimentScore'))\n",
        "dfSentiment.select('filteredCleanedTweetText','sentimentScore','sentiment').show(5)"
      ]
    },
    {
      "cell_type": "code",
      "execution_count": null,
      "metadata": {
        "id": "e56VPOb_j4gR",
        "outputId": "7f5679be-c432-4d60-8d7b-4be99a3aebea"
      },
      "outputs": [
        {
          "name": "stdout",
          "output_type": "stream",
          "text": [
            "+---------+-----+\n",
            "|sentiment|count|\n",
            "+---------+-----+\n",
            "|        1|27835|\n",
            "|        0|25453|\n",
            "+---------+-----+\n",
            "\n"
          ]
        },
        {
          "data": {
            "text/html": [
              "<div>\n",
              "<style scoped>\n",
              "    .dataframe tbody tr th:only-of-type {\n",
              "        vertical-align: middle;\n",
              "    }\n",
              "\n",
              "    .dataframe tbody tr th {\n",
              "        vertical-align: top;\n",
              "    }\n",
              "\n",
              "    .dataframe thead th {\n",
              "        text-align: right;\n",
              "    }\n",
              "</style>\n",
              "<table border=\"1\" class=\"dataframe\">\n",
              "  <thead>\n",
              "    <tr style=\"text-align: right;\">\n",
              "      <th></th>\n",
              "      <th>sentiment</th>\n",
              "      <th>count</th>\n",
              "    </tr>\n",
              "  </thead>\n",
              "  <tbody>\n",
              "    <tr>\n",
              "      <th>0</th>\n",
              "      <td>1</td>\n",
              "      <td>27835</td>\n",
              "    </tr>\n",
              "    <tr>\n",
              "      <th>1</th>\n",
              "      <td>0</td>\n",
              "      <td>25453</td>\n",
              "    </tr>\n",
              "  </tbody>\n",
              "</table>\n",
              "</div>"
            ],
            "text/plain": [
              "   sentiment  count\n",
              "0          1  27835\n",
              "1          0  25453"
            ]
          },
          "execution_count": 10,
          "metadata": {},
          "output_type": "execute_result"
        }
      ],
      "source": [
        "dfSentiment.groupBy('sentiment').count().show()\n",
        "\n",
        "df_PlotVader_Sentiment=dfSentiment.groupBy('sentiment').count().toPandas()\n",
        "df_PlotVader_Sentiment"
      ]
    },
    {
      "cell_type": "code",
      "execution_count": null,
      "metadata": {
        "id": "x3664JdXj4hY",
        "outputId": "8eaf5774-ed31-4bc5-8bd3-dbdd7dc7d737"
      },
      "outputs": [
        {
          "name": "stdout",
          "output_type": "stream",
          "text": [
            "+------------------------+--------------+---------+\n",
            "|filteredCleanedTweetText|sentimentScore|sentiment|\n",
            "+------------------------+--------------+---------+\n",
            "|             buy bitcoin|           0.0|        0|\n",
            "|     facebook pushed ...|           0.0|        0|\n",
            "|     buying bitcoin c...|       -0.7003|        0|\n",
            "|    profound question...|           0.0|        0|\n",
            "|    bitcoin btc curre...|           0.0|        0|\n",
            "+------------------------+--------------+---------+\n",
            "only showing top 5 rows\n",
            "\n"
          ]
        }
      ],
      "source": [
        "dfSentiment.select('filteredCleanedTweetText','sentimentScore','sentiment').show(5)"
      ]
    },
    {
      "cell_type": "code",
      "execution_count": null,
      "metadata": {
        "id": "cRCwKzFVj4hZ"
      },
      "outputs": [],
      "source": [
        "filteredCleanedTweetTextRddList = dfSentiment.select('filteredCleanedTweetText').collect()\n",
        "filteredCleanedTweetTextList = [row.filteredCleanedTweetText for row in filteredCleanedTweetTextRddList]\n",
        "wordList = []\n",
        "for filteredCleanedTweetText in filteredCleanedTweetTextList:\n",
        "     wordList.append(filteredCleanedTweetText.split(' '))\n",
        "allTweetWords = [word for subList in wordList for word in subList]\n",
        "'''\n",
        "Remove empty strings\n",
        "'''\n",
        "allTweetWords = list(filter(None, allTweetWords))"
      ]
    },
    {
      "cell_type": "code",
      "execution_count": null,
      "metadata": {
        "id": "X1I-iDR_j4ha",
        "outputId": "6acf3082-51dd-4667-c0b9-acbaaba501fd"
      },
      "outputs": [
        {
          "data": {
            "text/plain": [
              "['correctly',\n",
              " 'pagos',\n",
              " 'publicado',\n",
              " 'lager',\n",
              " 'bitcoinasia',\n",
              " 'arbitraj',\n",
              " 'tops',\n",
              " 'means',\n",
              " 'hardcap',\n",
              " 'watches',\n",
              " 'lamp',\n",
              " 'messages',\n",
              " 'pontos',\n",
              " 'heasley',\n",
              " 'cannabis',\n",
              " 'liechtenstein',\n",
              " 'known',\n",
              " 'historically',\n",
              " 'bitcoinnetwork',\n",
              " 'gonna',\n",
              " 'nah',\n",
              " 'comerica',\n",
              " 'accommodation',\n",
              " 'inception',\n",
              " 'accelerating',\n",
              " 'te',\n",
              " 'bitball',\n",
              " 'vistazo',\n",
              " 'towns',\n",
              " 'voir',\n",
              " 'progressed',\n",
              " 'illuminating',\n",
              " 'dovish',\n",
              " 'ledgers',\n",
              " 'basher',\n",
              " 'mybd',\n",
              " 'doncaster',\n",
              " 'encryption',\n",
              " 'efficacy',\n",
              " 'andr',\n",
              " 'suggests',\n",
              " 'midlands',\n",
              " 'normativa',\n",
              " 'attracted',\n",
              " 'hizmeti',\n",
              " 'environmental',\n",
              " 'strives',\n",
              " 'validation',\n",
              " 'abbau',\n",
              " 'blt',\n",
              " 'hedgefund',\n",
              " 'precisa',\n",
              " 'svte',\n",
              " 'steadily',\n",
              " 'tnetworks',\n",
              " 'dilemma',\n",
              " 'artificialintelligence',\n",
              " 'pending',\n",
              " 'billiin',\n",
              " 'wp',\n",
              " 'payoff',\n",
              " 'clubjack',\n",
              " 'eldatodeld',\n",
              " 'primero',\n",
              " 'burda',\n",
              " 'agricoinx',\n",
              " 'finnaly',\n",
              " 'soleimani',\n",
              " 'fiatmoney',\n",
              " 'eastern',\n",
              " 'cryptio',\n",
              " 'hammer',\n",
              " 'menerangkan',\n",
              " 'sora',\n",
              " 'streets',\n",
              " 'neighbour',\n",
              " 'sudwatoken',\n",
              " 'oooh',\n",
              " 'ny',\n",
              " 'even',\n",
              " 'latestbitcoinnews',\n",
              " 'wdms',\n",
              " 'mesure',\n",
              " 'thebigbilliondays',\n",
              " 'worries',\n",
              " 'ccss',\n",
              " 'blocksims',\n",
              " 'lin',\n",
              " 'accord',\n",
              " 'obelisk',\n",
              " 'thrives',\n",
              " 'smile',\n",
              " 'danskebank',\n",
              " 'gremioportoalegre',\n",
              " 'required',\n",
              " 'moneyl',\n",
              " 'heroes',\n",
              " 'darkweb',\n",
              " 'vente',\n",
              " 'mycointainer']"
            ]
          },
          "execution_count": 15,
          "metadata": {},
          "output_type": "execute_result"
        }
      ],
      "source": [
        "allTweetWords=set(allTweetWords)\n",
        "frequencyDistribution = nltk.FreqDist(allTweetWords)\n",
        "sorted(frequencyDistribution,key=frequencyDistribution.__getitem__, reverse=True)[0:100]"
      ]
    },
    {
      "cell_type": "code",
      "execution_count": null,
      "metadata": {
        "id": "X5eWtIFRj4hb",
        "outputId": "7f3d3116-c608-4a2d-9881-bee29cce9709"
      },
      "outputs": [
        {
          "name": "stdout",
          "output_type": "stream",
          "text": [
            "+------------------------+-------------------------------+\n",
            "|filteredCleanedTweetText|filteredCleanedTweetArrayForW2V|\n",
            "+------------------------+-------------------------------+\n",
            "|             buy bitcoin|               [, buy, bitcoin]|\n",
            "|     facebook pushed ...|           [, facebook, push...|\n",
            "|     buying bitcoin c...|           [, buying, bitcoi...|\n",
            "|    profound question...|           [profound, questi...|\n",
            "|    bitcoin btc curre...|           [bitcoin, btc, cu...|\n",
            "+------------------------+-------------------------------+\n",
            "only showing top 5 rows\n",
            "\n"
          ]
        }
      ],
      "source": [
        "udfTweetArray = udf(getTweetArray, ArrayType(StringType()))\n",
        "dfWord2Vec = dfSentiment.withColumn('filteredCleanedTweetArrayForW2V', udfTweetArray('filteredCleanedTweetText'))\n",
        "dfWord2Vec.select('filteredCleanedTweetText','filteredCleanedTweetArrayForW2V').show(5)"
      ]
    },
    {
      "cell_type": "code",
      "execution_count": null,
      "metadata": {
        "id": "m2fnAKS1j4hb",
        "outputId": "0eef7792-aa36-4f01-a80e-db5e432807a4"
      },
      "outputs": [
        {
          "name": "stdout",
          "output_type": "stream",
          "text": [
            "+--------------------+\n",
            "|           wrdVector|\n",
            "+--------------------+\n",
            "|[-0.0081031260391...|\n",
            "|[0.03244456322863...|\n",
            "|[0.05897613765242...|\n",
            "|[-0.0681024376302...|\n",
            "|[-0.1719806233627...|\n",
            "+--------------------+\n",
            "only showing top 5 rows\n",
            "\n"
          ]
        }
      ],
      "source": [
        "word2Vec = Word2Vec(vectorSize=100, minCount=5, inputCol='filteredCleanedTweetArrayForW2V', outputCol='wrdVector')\n",
        "model_W2V = word2Vec.fit(dfWord2Vec)\n",
        "wrdVec = model_W2V.transform(dfWord2Vec)\n",
        "wrdVec.select('wrdVector').show(5, truncate = True)"
      ]
    },
    {
      "cell_type": "code",
      "execution_count": null,
      "metadata": {
        "scrolled": true,
        "id": "j71rce4Gj4hc",
        "outputId": "34093148-4015-4a3a-fabe-e6c1bc45da39"
      },
      "outputs": [
        {
          "name": "stdout",
          "output_type": "stream",
          "text": [
            "+--------+--------------------+\n",
            "|    word|              vector|\n",
            "+--------+--------------------+\n",
            "| serious|[0.00916644185781...|\n",
            "|  breaks|[5.09095494635403...|\n",
            "|precious|[0.05938430503010...|\n",
            "|   retwe|[0.06232949718832...|\n",
            "| sectors|[-0.0720720514655...|\n",
            "+--------+--------------------+\n",
            "only showing top 5 rows\n",
            "\n"
          ]
        }
      ],
      "source": [
        "dfWordVectors = model_W2V.getVectors()\n",
        "dfWordVectors.show(5)"
      ]
    },
    {
      "cell_type": "markdown",
      "metadata": {
        "id": "-G9J2KOZj4hc"
      },
      "source": [
        "**Let's explore the data a little**"
      ]
    },
    {
      "cell_type": "code",
      "execution_count": null,
      "metadata": {
        "id": "oAm5n19oj4hd",
        "outputId": "525bb1e8-b73f-4f18-98d8-69331b6dbabe"
      },
      "outputs": [
        {
          "data": {
            "text/html": [
              "<div>\n",
              "<style scoped>\n",
              "    .dataframe tbody tr th:only-of-type {\n",
              "        vertical-align: middle;\n",
              "    }\n",
              "\n",
              "    .dataframe tbody tr th {\n",
              "        vertical-align: top;\n",
              "    }\n",
              "\n",
              "    .dataframe thead th {\n",
              "        text-align: right;\n",
              "    }\n",
              "</style>\n",
              "<table border=\"1\" class=\"dataframe\">\n",
              "  <thead>\n",
              "    <tr style=\"text-align: right;\">\n",
              "      <th></th>\n",
              "      <th>word</th>\n",
              "    </tr>\n",
              "  </thead>\n",
              "  <tbody>\n",
              "    <tr>\n",
              "      <th>0</th>\n",
              "      <td>ltc</td>\n",
              "    </tr>\n",
              "    <tr>\n",
              "      <th>1</th>\n",
              "      <td>eth</td>\n",
              "    </tr>\n",
              "    <tr>\n",
              "      <th>2</th>\n",
              "      <td>price</td>\n",
              "    </tr>\n",
              "    <tr>\n",
              "      <th>3</th>\n",
              "      <td>bitcoin</td>\n",
              "    </tr>\n",
              "    <tr>\n",
              "      <th>4</th>\n",
              "      <td>btcusd</td>\n",
              "    </tr>\n",
              "    <tr>\n",
              "      <th>5</th>\n",
              "      <td>giveawayalert</td>\n",
              "    </tr>\n",
              "    <tr>\n",
              "      <th>6</th>\n",
              "      <td>bitcoincash</td>\n",
              "    </tr>\n",
              "    <tr>\n",
              "      <th>7</th>\n",
              "      <td>coinbase</td>\n",
              "    </tr>\n",
              "    <tr>\n",
              "      <th>8</th>\n",
              "      <td>prediction</td>\n",
              "    </tr>\n",
              "    <tr>\n",
              "      <th>9</th>\n",
              "      <td>gained</td>\n",
              "    </tr>\n",
              "  </tbody>\n",
              "</table>\n",
              "</div>"
            ],
            "text/plain": [
              "            word\n",
              "0            ltc\n",
              "1            eth\n",
              "2          price\n",
              "3        bitcoin\n",
              "4         btcusd\n",
              "5  giveawayalert\n",
              "6    bitcoincash\n",
              "7       coinbase\n",
              "8     prediction\n",
              "9         gained"
            ]
          },
          "execution_count": 22,
          "metadata": {},
          "output_type": "execute_result"
        }
      ],
      "source": [
        "topN=10\n",
        "\n",
        "Synonyms = model_W2V.findSynonyms('btc', topN).toPandas()\n",
        "Synonyms[['word']].head(topN)"
      ]
    },
    {
      "cell_type": "code",
      "execution_count": null,
      "metadata": {
        "id": "VmGWm7s8j4hd",
        "outputId": "b01aa9ef-8447-48ad-c53e-260cb9ec192e"
      },
      "outputs": [
        {
          "data": {
            "text/html": [
              "<div>\n",
              "<style scoped>\n",
              "    .dataframe tbody tr th:only-of-type {\n",
              "        vertical-align: middle;\n",
              "    }\n",
              "\n",
              "    .dataframe tbody tr th {\n",
              "        vertical-align: top;\n",
              "    }\n",
              "\n",
              "    .dataframe thead th {\n",
              "        text-align: right;\n",
              "    }\n",
              "</style>\n",
              "<table border=\"1\" class=\"dataframe\">\n",
              "  <thead>\n",
              "    <tr style=\"text-align: right;\">\n",
              "      <th></th>\n",
              "      <th>word</th>\n",
              "    </tr>\n",
              "  </thead>\n",
              "  <tbody>\n",
              "    <tr>\n",
              "      <th>0</th>\n",
              "      <td>via</td>\n",
              "    </tr>\n",
              "    <tr>\n",
              "      <th>1</th>\n",
              "      <td>litecoin</td>\n",
              "    </tr>\n",
              "    <tr>\n",
              "      <th>2</th>\n",
              "      <td>btc</td>\n",
              "    </tr>\n",
              "    <tr>\n",
              "      <th>3</th>\n",
              "      <td>ethereum</td>\n",
              "    </tr>\n",
              "    <tr>\n",
              "      <th>4</th>\n",
              "      <td>still</td>\n",
              "    </tr>\n",
              "    <tr>\n",
              "      <th>5</th>\n",
              "      <td>analysis</td>\n",
              "    </tr>\n",
              "    <tr>\n",
              "      <th>6</th>\n",
              "      <td>price</td>\n",
              "    </tr>\n",
              "    <tr>\n",
              "      <th>7</th>\n",
              "      <td>coinbase</td>\n",
              "    </tr>\n",
              "    <tr>\n",
              "      <th>8</th>\n",
              "      <td>bitcoins</td>\n",
              "    </tr>\n",
              "    <tr>\n",
              "      <th>9</th>\n",
              "      <td>sell</td>\n",
              "    </tr>\n",
              "  </tbody>\n",
              "</table>\n",
              "</div>"
            ],
            "text/plain": [
              "       word\n",
              "0       via\n",
              "1  litecoin\n",
              "2       btc\n",
              "3  ethereum\n",
              "4     still\n",
              "5  analysis\n",
              "6     price\n",
              "7  coinbase\n",
              "8  bitcoins\n",
              "9      sell"
            ]
          },
          "execution_count": 23,
          "metadata": {},
          "output_type": "execute_result"
        }
      ],
      "source": [
        "Synonyms = modelW2V.findSynonyms('bitcoin', topN).toPandas()\n",
        "Synonyms[['word']].head(topN)"
      ]
    },
    {
      "cell_type": "code",
      "execution_count": null,
      "metadata": {
        "id": "d_HEkdvTj4he",
        "outputId": "e8b6bc68-4b50-4825-e964-9603a97c1c04"
      },
      "outputs": [
        {
          "data": {
            "text/html": [
              "<div>\n",
              "<style scoped>\n",
              "    .dataframe tbody tr th:only-of-type {\n",
              "        vertical-align: middle;\n",
              "    }\n",
              "\n",
              "    .dataframe tbody tr th {\n",
              "        vertical-align: top;\n",
              "    }\n",
              "\n",
              "    .dataframe thead th {\n",
              "        text-align: right;\n",
              "    }\n",
              "</style>\n",
              "<table border=\"1\" class=\"dataframe\">\n",
              "  <thead>\n",
              "    <tr style=\"text-align: right;\">\n",
              "      <th></th>\n",
              "      <th>word</th>\n",
              "      <th>similarity</th>\n",
              "    </tr>\n",
              "  </thead>\n",
              "  <tbody>\n",
              "    <tr>\n",
              "      <th>0</th>\n",
              "      <td>ltc</td>\n",
              "      <td>0.73554</td>\n",
              "    </tr>\n",
              "    <tr>\n",
              "      <th>1</th>\n",
              "      <td>bitcoincash</td>\n",
              "      <td>0.70471</td>\n",
              "    </tr>\n",
              "    <tr>\n",
              "      <th>2</th>\n",
              "      <td>hitting</td>\n",
              "      <td>0.64089</td>\n",
              "    </tr>\n",
              "    <tr>\n",
              "      <th>3</th>\n",
              "      <td>dailycoin</td>\n",
              "      <td>0.63667</td>\n",
              "    </tr>\n",
              "    <tr>\n",
              "      <th>4</th>\n",
              "      <td>eur</td>\n",
              "      <td>0.63521</td>\n",
              "    </tr>\n",
              "    <tr>\n",
              "      <th>5</th>\n",
              "      <td>price</td>\n",
              "      <td>0.63315</td>\n",
              "    </tr>\n",
              "    <tr>\n",
              "      <th>6</th>\n",
              "      <td>tether</td>\n",
              "      <td>0.62944</td>\n",
              "    </tr>\n",
              "    <tr>\n",
              "      <th>7</th>\n",
              "      <td>ltcbtc</td>\n",
              "      <td>0.61391</td>\n",
              "    </tr>\n",
              "    <tr>\n",
              "      <th>8</th>\n",
              "      <td>forecast</td>\n",
              "      <td>0.59987</td>\n",
              "    </tr>\n",
              "    <tr>\n",
              "      <th>9</th>\n",
              "      <td>dogecoin</td>\n",
              "      <td>0.59245</td>\n",
              "    </tr>\n",
              "  </tbody>\n",
              "</table>\n",
              "</div>"
            ],
            "text/plain": [
              "          word similarity\n",
              "0          ltc    0.73554\n",
              "1  bitcoincash    0.70471\n",
              "2      hitting    0.64089\n",
              "3    dailycoin    0.63667\n",
              "4          eur    0.63521\n",
              "5        price    0.63315\n",
              "6       tether    0.62944\n",
              "7       ltcbtc    0.61391\n",
              "8     forecast    0.59987\n",
              "9     dogecoin    0.59245"
            ]
          },
          "execution_count": 24,
          "metadata": {},
          "output_type": "execute_result"
        }
      ],
      "source": [
        "Similarity=model_W2V.findSynonyms('litecoin', topN).select('word', fmt('similarity', 5).alias('similarity')).toPandas()\n",
        "Similarity.head(topN)"
      ]
    },
    {
      "cell_type": "code",
      "execution_count": null,
      "metadata": {
        "id": "sHEA8baLj4he",
        "outputId": "86f414e5-fd01-428f-eec5-c1c904336b49"
      },
      "outputs": [
        {
          "data": {
            "text/html": [
              "<div>\n",
              "<style scoped>\n",
              "    .dataframe tbody tr th:only-of-type {\n",
              "        vertical-align: middle;\n",
              "    }\n",
              "\n",
              "    .dataframe tbody tr th {\n",
              "        vertical-align: top;\n",
              "    }\n",
              "\n",
              "    .dataframe thead th {\n",
              "        text-align: right;\n",
              "    }\n",
              "</style>\n",
              "<table border=\"1\" class=\"dataframe\">\n",
              "  <thead>\n",
              "    <tr style=\"text-align: right;\">\n",
              "      <th></th>\n",
              "      <th>word</th>\n",
              "      <th>similarity</th>\n",
              "    </tr>\n",
              "  </thead>\n",
              "  <tbody>\n",
              "    <tr>\n",
              "      <th>0</th>\n",
              "      <td>tokensale</td>\n",
              "      <td>0.48864</td>\n",
              "    </tr>\n",
              "    <tr>\n",
              "      <th>1</th>\n",
              "      <td>technology</td>\n",
              "      <td>0.47616</td>\n",
              "    </tr>\n",
              "    <tr>\n",
              "      <th>2</th>\n",
              "      <td>ieo</td>\n",
              "      <td>0.47388</td>\n",
              "    </tr>\n",
              "    <tr>\n",
              "      <th>3</th>\n",
              "      <td>stories</td>\n",
              "      <td>0.43097</td>\n",
              "    </tr>\n",
              "    <tr>\n",
              "      <th>4</th>\n",
              "      <td>iot</td>\n",
              "      <td>0.42421</td>\n",
              "    </tr>\n",
              "    <tr>\n",
              "      <th>5</th>\n",
              "      <td>fintech</td>\n",
              "      <td>0.41513</td>\n",
              "    </tr>\n",
              "    <tr>\n",
              "      <th>6</th>\n",
              "      <td>ether</td>\n",
              "      <td>0.41244</td>\n",
              "    </tr>\n",
              "    <tr>\n",
              "      <th>7</th>\n",
              "      <td>cryptoenergy</td>\n",
              "      <td>0.40820</td>\n",
              "    </tr>\n",
              "    <tr>\n",
              "      <th>8</th>\n",
              "      <td>finance</td>\n",
              "      <td>0.40691</td>\n",
              "    </tr>\n",
              "    <tr>\n",
              "      <th>9</th>\n",
              "      <td>solution</td>\n",
              "      <td>0.40449</td>\n",
              "    </tr>\n",
              "  </tbody>\n",
              "</table>\n",
              "</div>"
            ],
            "text/plain": [
              "           word similarity\n",
              "0     tokensale    0.48864\n",
              "1    technology    0.47616\n",
              "2           ieo    0.47388\n",
              "3       stories    0.43097\n",
              "4           iot    0.42421\n",
              "5       fintech    0.41513\n",
              "6         ether    0.41244\n",
              "7  cryptoenergy    0.40820\n",
              "8       finance    0.40691\n",
              "9      solution    0.40449"
            ]
          },
          "execution_count": 25,
          "metadata": {},
          "output_type": "execute_result"
        }
      ],
      "source": [
        "Similarity=model_W2V.findSynonyms('blockchain', topN).select('word', fmt('similarity', 5).alias('similarity')).toPandas()\n",
        "Similarity.head(topN)"
      ]
    },
    {
      "cell_type": "code",
      "execution_count": null,
      "metadata": {
        "id": "JL_34dzVj4hf"
      },
      "outputs": [],
      "source": [
        "Sentiment = Sentiment.withColumnRenamed('sentiment','target')"
      ]
    },
    {
      "cell_type": "code",
      "execution_count": null,
      "metadata": {
        "id": "fLhc555oj4hf",
        "outputId": "3986587c-62d2-4121-a53e-e52e0de290e0"
      },
      "outputs": [
        {
          "name": "stdout",
          "output_type": "stream",
          "text": [
            "+--------------------+--------------------+------+\n",
            "|                text|      cleanTweetText|target|\n",
            "+--------------------+--------------------+------+\n",
            "|@ReformedBroker B...|        Buy bitcoin |     0|\n",
            "|RT @DigiFinex: Fa...| Facebook has pus...|     0|\n",
            "|RT @tradingroomap...| Buying Bitcoin C...|     0|\n",
            "|Most Profound Que...|Most Profound Que...|     0|\n",
            "|Bitcoin BTC Curre...|Bitcoin BTC Curre...|     0|\n",
            "+--------------------+--------------------+------+\n",
            "only showing top 5 rows\n",
            "\n"
          ]
        }
      ],
      "source": [
        "SentimnetAnalysisW2VLogreg=Sentiment.select('text','cleanTweetText','target')\n",
        "SentimnetAnalysisW2VLogreg.show(5)"
      ]
    },
    {
      "cell_type": "code",
      "execution_count": null,
      "metadata": {
        "scrolled": true,
        "id": "sw6AIakfj4hf",
        "outputId": "00fe4f95-dfea-43f4-b297-5e060388a44e"
      },
      "outputs": [
        {
          "name": "stdout",
          "output_type": "stream",
          "text": [
            "root\n",
            " |-- text: string (nullable = true)\n",
            " |-- cleanTweetText: string (nullable = true)\n",
            " |-- target: integer (nullable = true)\n",
            " |-- tokenTweet: array (nullable = true)\n",
            " |    |-- element: string (containsNull = true)\n",
            " |-- filteredTokens: array (nullable = true)\n",
            " |    |-- element: string (containsNull = true)\n",
            " |-- features: vector (nullable = true)\n",
            " |-- label: double (nullable = false)\n",
            " |-- rawPrediction: vector (nullable = true)\n",
            " |-- probability: vector (nullable = true)\n",
            " |-- prediction: double (nullable = false)\n",
            "\n"
          ]
        }
      ],
      "source": [
        "w2vLogreg = PipelineModel.load('W2VLogreg.model')\n",
        "predictions = w2vLogreg.transform(dfSentimnetAnalysisW2VLogreg)\n",
        "predictions.printSchema()"
      ]
    },
    {
      "cell_type": "code",
      "execution_count": null,
      "metadata": {
        "id": "InJs7_qtj4hg",
        "outputId": "9918ccf4-1d58-4a13-872e-72f0c3e83924"
      },
      "outputs": [
        {
          "name": "stdout",
          "output_type": "stream",
          "text": [
            "ROC-Accuracy of logistic regression model with word2vec word embedding at predicting vedar sentiment is: 0.7075\n"
          ]
        }
      ],
      "source": [
        "evaluator = BinaryClassificationEvaluator()\n",
        "roc_accuracy=evaluator.evaluate(predictions)\n",
        "print('ROC-Accuracy of logistic regression model with word2vec word embedding at predicting vader sentiment is: {:.4f}'.format(roc_accuracy))\n"
      ]
    },
    {
      "cell_type": "markdown",
      "metadata": {
        "id": "RRBdHniCj4hg"
      },
      "source": [
        "**Perfromance comparision of  my own classifiers and Vader Sentiment Analysis**"
      ]
    },
    {
      "cell_type": "code",
      "execution_count": null,
      "metadata": {
        "id": "IOIofdd7j4hg"
      },
      "outputs": [],
      "source": [
        "sample1 = dfSentimnetAnalysisW2VLogreg.sample(False, 0.1, 101)\n",
        "sample2 = dfSentimnetAnalysisW2VLogreg.sample(False, 0.2, 101)\n",
        "sample3 = dfSentimnetAnalysisW2VLogreg.sample(False, 0.3, 101)\n",
        "\n",
        "predictions1 = w2vLogreg.transform(sample1)\n",
        "predictions2 = w2vLogreg.transform(sample2)\n",
        "predictions3 = w2vLogreg.transform(sample3)"
      ]
    },
    {
      "cell_type": "code",
      "execution_count": null,
      "metadata": {
        "id": "WvUcoPmFj4hh",
        "outputId": "786a98a2-d5f1-4874-c408-69116af8e0f3"
      },
      "outputs": [
        {
          "name": "stdout",
          "output_type": "stream",
          "text": [
            "[5286, 10602, 15967]\n"
          ]
        }
      ],
      "source": [
        "numberOfRecInSample1 = sample1.agg({'target':'count'}).collect()[0]['count(target)']\n",
        "numberOfRecInSample2 = sample2.agg({'target':'count'}).collect()[0]['count(target)']\n",
        "numberOfRecInSample3 = sample3.agg({'target':'count'}).collect()[0]['count(target)']\n",
        "\n",
        "numOfRecInSamplesList=[numberOfRecInSample1,numberOfRecInSample2,numberOfRecInSample3]\n",
        "print(numOfRecInSamplesList)"
      ]
    },
    {
      "cell_type": "code",
      "execution_count": null,
      "metadata": {
        "id": "uidEz_Qsj4hh",
        "outputId": "3255f152-a52c-45b4-a2e3-ef75784b60f8"
      },
      "outputs": [
        {
          "name": "stdout",
          "output_type": "stream",
          "text": [
            "predMatchWithVSList :  [57.90768066590996, 58.01735521599698, 57.66894219327363]\n"
          ]
        }
      ],
      "source": [
        "matchedPredictionsPercent1 = ((predictions1.filter(predictions1['label'] == predictions1['prediction']).count())/numberOfRecInSample1)*100\n",
        "matchedPredictionsPercent2 = ((predictions2.filter(predictions2['label'] == predictions2['prediction']).count())/numberOfRecInSample2)*100\n",
        "matchedPredictionsPercent3 = ((predictions3.filter(predictions3['label'] == predictions3['prediction']).count())/numberOfRecInSample3)*100\n",
        "\n",
        "predMatchWithVSList = [matchedPredictionsPercent1,matchedPredictionsPercent2,matchedPredictionsPercent3]\n",
        "\n",
        "print('predMatchWithVSList : ',predMatchWithVSList)\n"
      ]
    }
  ],
  "metadata": {
    "kernelspec": {
      "display_name": "Python 3",
      "language": "python",
      "name": "python3"
    },
    "language_info": {
      "codemirror_mode": {
        "name": "ipython",
        "version": 3
      },
      "file_extension": ".py",
      "mimetype": "text/x-python",
      "name": "python",
      "nbconvert_exporter": "python",
      "pygments_lexer": "ipython3",
      "version": "3.8.8"
    },
    "colab": {
      "name": "3Twitter_Sentiment.ipynb",
      "provenance": [],
      "collapsed_sections": []
    }
  },
  "nbformat": 4,
  "nbformat_minor": 0
}